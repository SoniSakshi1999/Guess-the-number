{
 "cells": [
  {
   "cell_type": "code",
   "execution_count": 5,
   "metadata": {},
   "outputs": [],
   "source": [
    "from random import randint\n"
   ]
  },
  {
   "cell_type": "code",
   "execution_count": 7,
   "metadata": {},
   "outputs": [
    {
     "name": "stdout",
     "output_type": "stream",
     "text": [
      "********************************************************************************\n",
      "You have only 5 chances\n",
      "Guess a number betweeen (1,50) : 11\n",
      "HINT : Think a Lower number \n",
      "You have left : 4 chances\n",
      "Guess a number betweeen (1,50) : 22\n",
      "HINT : Think a Lower number \n",
      "You have left : 3 chances\n",
      "Guess a number betweeen (1,50) : 33\n",
      "HINT : Think a Lower number \n",
      "You have left : 2 chances\n",
      "Guess a number betweeen (1,50) : 11\n",
      "HINT : Think a Lower number \n",
      "You have left : 1 chances\n",
      "Guess a number betweeen (1,50) : 1111\n",
      "Don't be oversmart Think between 1-50!!!!\n",
      "Guess a number betweeen (1,50) : 22\n",
      "HINT : Think a Lower number \n",
      "You have left : 0 chances\n",
      "Better luck next time.\n",
      "Computer guessed number is 7\n"
     ]
    }
   ],
   "source": [
    "c = 5\n",
    "rnum = randint(1,50)\n",
    "# print(f\"{rnum}\")\n",
    "print(\"*\"*80)\n",
    "print(\"You have only 5 chances\")\n",
    "while c<=5 and c>=1:\n",
    "    num = int(input(\"Guess a number betweeen (1,50) : \"))\n",
    "   \n",
    "    if num > 50:\n",
    "        print(\"Don't be oversmart Think between 1-50!!!!\")\n",
    "        continue              \n",
    "    elif num > rnum:\n",
    "        print(\"HINT : Think a Lower number \")\n",
    "    elif num < rnum:\n",
    "        print(\"HINT : Think a higher number\")    \n",
    "    else:\n",
    "        print(\"You are a winner!!! you guessed a correct number\")\n",
    "        print(f\"Computer guessed number is {rnum}\")\n",
    "        break\n",
    "    c -=1      \n",
    "    print(f\"You have left : {c} chances\")   \n",
    "else:\n",
    "    print(\"Better luck next time.\")\n",
    "    print(f\"Computer guessed number is {rnum}\")\n",
    "        \n",
    "\n",
    "   \n",
    "    "
   ]
  },
  {
   "cell_type": "markdown",
   "metadata": {},
   "source": [
    "## "
   ]
  }
 ],
 "metadata": {
  "kernelspec": {
   "display_name": "Python 3",
   "language": "python",
   "name": "python3"
  },
  "language_info": {
   "codemirror_mode": {
    "name": "ipython",
    "version": 3
   },
   "file_extension": ".py",
   "mimetype": "text/x-python",
   "name": "python",
   "nbconvert_exporter": "python",
   "pygments_lexer": "ipython3",
   "version": "3.7.4"
  }
 },
 "nbformat": 4,
 "nbformat_minor": 2
}
